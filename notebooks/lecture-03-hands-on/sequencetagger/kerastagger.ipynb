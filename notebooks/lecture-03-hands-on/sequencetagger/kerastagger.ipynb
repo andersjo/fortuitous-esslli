{
 "cells": [
  {
   "cell_type": "markdown",
   "metadata": {},
   "source": [
    "# Type-constraint POS tagging in Keras\n",
    "\n",
    "In this exercise you will learn how to implement a sequence prediction model in Keras.\n",
    "\n",
    "Afterwards you will extend the tagger so to use type-constraint decoding.\n",
    "\n",
    "    * todo: check for data, add functional, add exercise dropout and type-constr"
   ]
  },
  {
   "cell_type": "markdown",
   "metadata": {},
   "source": [
    "## A simple POS tagger based on Keras"
   ]
  },
  {
   "cell_type": "markdown",
   "metadata": {},
   "source": [
    "[add more intro]\n",
    "\n",
    "We have prepared a basic skeleton for you. In order to build a tagger you need instantiate your own version `SequenceTagger`. We do this by creating a subclass `BasicSequenceTagger` from the abstract class."
   ]
  },
  {
   "cell_type": "code",
   "execution_count": 2,
   "metadata": {
    "collapsed": false
   },
   "outputs": [
    {
     "name": "stderr",
     "output_type": "stream",
     "text": [
      "Using Theano backend.\n"
     ]
    }
   ],
   "source": [
    "from lib.tagger import SequenceTagger"
   ]
  },
  {
   "cell_type": "markdown",
   "metadata": {},
   "source": [
    "This is a basic abstract class that implements already some functionality, like input/output handling (`read_data`, and provides basic `fit` and `predict` functions). In oder to create your tagger you need to specify a **model** by implementing your own `build_graph` function. "
   ]
  },
  {
   "cell_type": "code",
   "execution_count": 19,
   "metadata": {
    "collapsed": false
   },
   "outputs": [],
   "source": [
    "from keras.models import Model, Sequential\n",
    "from keras.layers import Dense, Input, Activation\n",
    "from keras.layers.recurrent import SimpleRNN\n",
    "from keras.layers.wrappers import TimeDistributed\n",
    "from keras.layers.embeddings import Embedding\n",
    "\n",
    "class BasicSequenceTagger(SequenceTagger):\n",
    "    \n",
    "    def __init__(self):\n",
    "        self.in_dim=64\n",
    "        self.h_dim=100\n",
    "\n",
    "    def build_graph(self):\n",
    "        ### version1: traditional 'keras'-style code\n",
    "        self.model = Sequential()\n",
    "        self.model.add(Embedding(self.get_num_features(), self.in_dim,\n",
    "                                 input_length=self.max_sentence_len, mask_zero=True))\n",
    "        self.model.add(SimpleRNN(self.h_dim, return_sequences=True))\n",
    "        self.model.add(TimeDistributed(Dense(self.get_num_tags())))\n",
    "        self.model.add(Activation('softmax'))\n",
    "\n",
    "        self.model.compile(loss='categorical_crossentropy', optimizer='adam',\n",
    "                      metrics=['accuracy'])"
   ]
  },
  {
   "cell_type": "code",
   "execution_count": 16,
   "metadata": {
    "collapsed": false
   },
   "outputs": [
    {
     "name": "stdout",
     "output_type": "stream",
     "text": [
      "data/wsj-5000.train\n"
     ]
    },
    {
     "name": "stderr",
     "output_type": "stream",
     "text": [
      "5000 sentences 118719 tokens\n",
      "15249 features\n",
      "max_sentence_len: 91\n"
     ]
    }
   ],
   "source": [
    "tagger = BasicSequenceTagger()\n",
    "tagger.read_data(\"data/wsj-5000.train\", \"data/wsj.dev\")"
   ]
  },
  {
   "cell_type": "code",
   "execution_count": 17,
   "metadata": {
    "collapsed": false
   },
   "outputs": [
    {
     "name": "stdout",
     "output_type": "stream",
     "text": [
      "Build model\n",
      "train..\n",
      "Epoch 1/5\n",
      "5000/5000 [==============================] - 7s - loss: 1.7863 - acc: 0.1296     \n",
      "Epoch 2/5\n",
      "5000/5000 [==============================] - 7s - loss: 0.5513 - acc: 0.2255     \n",
      "Epoch 3/5\n",
      "5000/5000 [==============================] - 7s - loss: 0.1874 - acc: 0.2499     \n",
      "Epoch 4/5\n",
      "5000/5000 [==============================] - 7s - loss: 0.0985 - acc: 0.2547     \n",
      "Epoch 5/5\n",
      "5000/5000 [==============================] - 7s - loss: 0.0677 - acc: 0.2560     \n"
     ]
    }
   ],
   "source": [
    "print(\"Build model\")\n",
    "tagger.build_graph()\n",
    "print(\"train..\")\n",
    "batch_size=50\n",
    "epochs=5\n",
    "tagger.fit(batch_size, epochs)"
   ]
  },
  {
   "cell_type": "code",
   "execution_count": 18,
   "metadata": {
    "collapsed": false
   },
   "outputs": [
    {
     "name": "stderr",
     "output_type": "stream",
     "text": [
      "correct 124895.0 total: 131768.0 accuracy: 0.9478401432821323\n"
     ]
    }
   ],
   "source": [
    "# lets get predictions\n",
    "tagger.predict(tagger.test_X) "
   ]
  },
  {
   "cell_type": "markdown",
   "metadata": {
    "collapsed": false
   },
   "source": [
    "// add functional version \n",
    "\n",
    "See here for a [tiny intro into Keras](https://github.com/bplank/ltp-notebooks/blob/master/mini-intro-Keras.ipynb)"
   ]
  },
  {
   "cell_type": "code",
   "execution_count": 2,
   "metadata": {
    "collapsed": true
   },
   "outputs": [],
   "source": [
    "# add dropout to Keras tagger"
   ]
  },
  {
   "cell_type": "code",
   "execution_count": null,
   "metadata": {
    "collapsed": true
   },
   "outputs": [],
   "source": [
    "# add wiktionary constraints to tagger (Keras/rungsted?)"
   ]
  }
 ],
 "metadata": {
  "kernelspec": {
   "display_name": "Python 3",
   "language": "python",
   "name": "python3"
  },
  "language_info": {
   "codemirror_mode": {
    "name": "ipython",
    "version": 3
   },
   "file_extension": ".py",
   "mimetype": "text/x-python",
   "name": "python",
   "nbconvert_exporter": "python",
   "pygments_lexer": "ipython3",
   "version": "3.5.1"
  }
 },
 "nbformat": 4,
 "nbformat_minor": 0
}
