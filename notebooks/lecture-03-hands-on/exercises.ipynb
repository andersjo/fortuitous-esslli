{
 "cells": [
  {
   "cell_type": "markdown",
   "metadata": {},
   "source": [
    "# Hands-on day\n",
    "\n",
    "During this practical lecture you will:\n",
    "* learn how to apply various fortuitous tricks to actual NLP models\n",
    "* learn how to work with deep learning models in Keras"
   ]
  },
  {
   "cell_type": "markdown",
   "metadata": {},
   "source": [
    "## Exercise: Classification with......\n",
    "\n",
    "[todo] e.g. (adding embeddings to some classification task?)\n",
    "(here is a simple feedforward network example for a fixed-input task: https://github.com/bplank/example_ff; we could let them add pre-trained embeddings)"
   ]
  },
  {
   "cell_type": "markdown",
   "metadata": {},
   "source": [
    "## Exercise: Type-constraints Part-of-Speech tagging in Keras"
   ]
  },
  {
   "cell_type": "markdown",
   "metadata": {},
   "source": [
    "Go to the [POS taggging notebook](sequencetagger/kerastagger.ipynb)\n",
    "\n"
   ]
  },
  {
   "cell_type": "markdown",
   "metadata": {},
   "source": [
    "## Exercise: ...\n",
    "[add more] cross-lingual parsing example?\n"
   ]
  }
 ],
 "metadata": {
  "kernelspec": {
   "display_name": "Python 3",
   "language": "python",
   "name": "python3"
  },
  "language_info": {
   "codemirror_mode": {
    "name": "ipython",
    "version": 3
   },
   "file_extension": ".py",
   "mimetype": "text/x-python",
   "name": "python",
   "nbconvert_exporter": "python",
   "pygments_lexer": "ipython3",
   "version": "3.5.1"
  }
 },
 "nbformat": 4,
 "nbformat_minor": 0
}
