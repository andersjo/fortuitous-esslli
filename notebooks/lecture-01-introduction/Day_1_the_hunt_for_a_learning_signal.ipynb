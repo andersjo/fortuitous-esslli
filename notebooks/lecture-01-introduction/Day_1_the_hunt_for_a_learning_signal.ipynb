{
 "cells": [
  {
   "cell_type": "markdown",
   "metadata": {
    "slideshow": {
     "slide_type": "slide"
    }
   },
   "source": [
    "# Improving language technology with fortuitous data\n"
   ]
  },
  {
   "cell_type": "markdown",
   "metadata": {
    "slideshow": {
     "slide_type": "slide"
    }
   },
   "source": [
    "## Introduction\n",
    "\n",
    "[Natural Language Processing](https://en.wikipedia.org/wiki/Natural_language_processing) is \"is a field of computer science, artificial intelligence, and computational linguistics concerned with the interactions between computers and human (natural) languages. [..] challenges in NLP [include] **enabling computers to derive meaning from human or natural language input**\"."
   ]
  },
  {
   "cell_type": "markdown",
   "metadata": {
    "slideshow": {
     "slide_type": "fragment"
    }
   },
   "source": [
    "\"Modern NLP algorithms are based on **machine learning**\" ([NLP, Wikipedia](https://en.wikipedia.org/wiki/Natural_language_processing))"
   ]
  },
  {
   "cell_type": "markdown",
   "metadata": {
    "slideshow": {
     "slide_type": "slide"
    }
   },
   "source": [
    "## Machine learning\n",
    "\n",
    "<img src=\"pics/prog-vs-ml.png\" width=600>"
   ]
  },
  {
   "cell_type": "markdown",
   "metadata": {
    "slideshow": {
     "slide_type": "slide"
    }
   },
   "source": [
    "## The hunt for a learning signal \n",
    "\n",
    "### A learning analogy\n",
    "\n",
    "(cooking example) \n",
    "\n",
    "### Learning signal\n",
    "\n",
    "(comparing input output)\n"
   ]
  },
  {
   "cell_type": "markdown",
   "metadata": {
    "slideshow": {
     "slide_type": "slide"
    }
   },
   "source": [
    "### Classification and gradient-based learning\n",
    "\n",
    "(day 1 classification, i.e., In the first lecture we’ll assume that both our input and output have a fixed size and structure, i.e. the problem is classification;) e.g., [shelter outcome classification problem](https://www.kaggle.com/c/shelter-animal-outcomes)? <img src=\"https://kaggle2.blob.core.windows.net/competitions/kaggle/5039/media/kaggle_pets2.png\">\n",
    "\n",
    "ubiquitous in NLP and accounts for most successes in machine learning, including deep learning\n",
    "\n",
    "(give intuition of gradient-based learning, more details in day 2?)\n",
    "\n",
    "ML as function learning (examples from your [SciProg class](https://github.com/andersjo/scientific-programming-2015/blob/master/lectures/lecture05/ML_Classification.ipynb) ?)"
   ]
  },
  {
   "cell_type": "markdown",
   "metadata": {
    "collapsed": true,
    "slideshow": {
     "slide_type": "slide"
    }
   },
   "source": [
    "## Supervised learning"
   ]
  },
  {
   "cell_type": "markdown",
   "metadata": {
    "slideshow": {
     "slide_type": "fragment"
    }
   },
   "source": [
    "<img src=\"pics/supervised-ml.png\" width=800>"
   ]
  },
  {
   "cell_type": "markdown",
   "metadata": {
    "slideshow": {
     "slide_type": "notes"
    }
   },
   "source": [
    "## Challenges \n",
    "% these are just notes\n",
    "* NLP: sparse data. Need for large amounts of labeled data (expensive)\n",
    "   * (e.g. self-training approaches)\n",
    "* Only little labeled data, but related data is available. how to incorporate?\n",
    "   * data from related resources (e.g. Wiktionary; type-constraints)\n",
    "   * data from related tasks (e.g. multitask-learning day 4)\n",
    "* Domain adaptation\n",
    "    * change in input representation (e.g. from news to twitter; example hyperlinks)\n",
    "    * change in relation between input and output (e.g., cross-lingual learning -> extreme case of not having any data available, day 5)"
   ]
  },
  {
   "cell_type": "markdown",
   "metadata": {
    "slideshow": {
     "slide_type": "slide"
    }
   },
   "source": [
    "### Learning from non-obvious sources: Fortuitous data\n",
    "\n",
    "<img src=\"pics/fortuitous-def.png\" width=600>"
   ]
  },
  {
   "cell_type": "code",
   "execution_count": null,
   "metadata": {
    "collapsed": true
   },
   "outputs": [],
   "source": []
  }
 ],
 "metadata": {
  "celltoolbar": "Slideshow",
  "kernelspec": {
   "display_name": "Python 3",
   "language": "python",
   "name": "python3"
  },
  "language_info": {
   "codemirror_mode": {
    "name": "ipython",
    "version": 3
   },
   "file_extension": ".py",
   "mimetype": "text/x-python",
   "name": "python",
   "nbconvert_exporter": "python",
   "pygments_lexer": "ipython3",
   "version": "3.5.1"
  }
 },
 "nbformat": 4,
 "nbformat_minor": 0
}
